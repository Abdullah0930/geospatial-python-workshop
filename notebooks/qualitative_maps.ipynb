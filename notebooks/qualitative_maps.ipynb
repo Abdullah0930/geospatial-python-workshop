{
 "cells": [
  {
   "cell_type": "code",
   "execution_count": 1,
   "metadata": {},
   "outputs": [],
   "source": [
    "import matplotlib.pyplot as plt\n",
    "import geopandas as gpd\n",
    "\n",
    "%matplotlib inline"
   ]
  },
  {
   "cell_type": "markdown",
   "metadata": {},
   "source": [
    "#### `matplotlib.pyplot` is the plotting library underlying `pandas` plots and `geopandas` plots"
   ]
  },
  {
   "cell_type": "code",
   "execution_count": 2,
   "metadata": {},
   "outputs": [
    {
     "data": {
      "text/html": [
       "<div>\n",
       "<style scoped>\n",
       "    .dataframe tbody tr th:only-of-type {\n",
       "        vertical-align: middle;\n",
       "    }\n",
       "\n",
       "    .dataframe tbody tr th {\n",
       "        vertical-align: top;\n",
       "    }\n",
       "\n",
       "    .dataframe thead th {\n",
       "        text-align: right;\n",
       "    }\n",
       "</style>\n",
       "<table border=\"1\" class=\"dataframe\">\n",
       "  <thead>\n",
       "    <tr style=\"text-align: right;\">\n",
       "      <th></th>\n",
       "      <th>first_name</th>\n",
       "      <th>city</th>\n",
       "      <th>zip</th>\n",
       "      <th>email</th>\n",
       "      <th>state</th>\n",
       "      <th>last_name</th>\n",
       "      <th>address</th>\n",
       "      <th>position</th>\n",
       "      <th>term_expir</th>\n",
       "      <th>district</th>\n",
       "      <th>phone</th>\n",
       "      <th>geometry</th>\n",
       "    </tr>\n",
       "  </thead>\n",
       "  <tbody>\n",
       "    <tr>\n",
       "      <th>0</th>\n",
       "      <td>Dr. Sharon</td>\n",
       "      <td>Nashville</td>\n",
       "      <td>37218</td>\n",
       "      <td>gentryfordistrict1@comcast.net</td>\n",
       "      <td>TN</td>\n",
       "      <td>Gentry</td>\n",
       "      <td>6108 Beals Lane</td>\n",
       "      <td>Member</td>\n",
       "      <td>2016</td>\n",
       "      <td>1</td>\n",
       "      <td>615-268-5269</td>\n",
       "      <td>MULTIPOLYGON (((-86.77136 36.38357, -86.77134 ...</td>\n",
       "    </tr>\n",
       "    <tr>\n",
       "      <th>1</th>\n",
       "      <td>Jill</td>\n",
       "      <td>Madison</td>\n",
       "      <td>37115</td>\n",
       "      <td>jill.speering@mnps.org</td>\n",
       "      <td>TN</td>\n",
       "      <td>Speering</td>\n",
       "      <td>1033 Falls Avenue</td>\n",
       "      <td>Vice-Chair</td>\n",
       "      <td>2016</td>\n",
       "      <td>3</td>\n",
       "      <td>615-562-5234</td>\n",
       "      <td>MULTIPOLYGON (((-86.75365 36.40428, -86.75353 ...</td>\n",
       "    </tr>\n",
       "  </tbody>\n",
       "</table>\n",
       "</div>"
      ],
      "text/plain": [
       "   first_name       city    zip                           email state  \\\n",
       "0  Dr. Sharon  Nashville  37218  gentryfordistrict1@comcast.net    TN   \n",
       "1        Jill    Madison  37115          jill.speering@mnps.org    TN   \n",
       "\n",
       "  last_name            address    position term_expir district         phone  \\\n",
       "0    Gentry    6108 Beals Lane      Member       2016        1  615-268-5269   \n",
       "1  Speering  1033 Falls Avenue  Vice-Chair       2016        3  615-562-5234   \n",
       "\n",
       "                                            geometry  \n",
       "0  MULTIPOLYGON (((-86.77136 36.38357, -86.77134 ...  \n",
       "1  MULTIPOLYGON (((-86.75365 36.40428, -86.75353 ...  "
      ]
     },
     "execution_count": 2,
     "metadata": {},
     "output_type": "execute_result"
    }
   ],
   "source": [
    "school_districts = gpd.read_file('../data/school_districts.geojson')\n",
    "school_districts.head(2)"
   ]
  },
  {
   "cell_type": "markdown",
   "metadata": {},
   "source": [
    "### First plot the school districts with no polishing"
   ]
  },
  {
   "cell_type": "code",
   "execution_count": null,
   "metadata": {},
   "outputs": [],
   "source": [
    "school_districts.plot();"
   ]
  },
  {
   "cell_type": "markdown",
   "metadata": {},
   "source": [
    "### Next color the polygons according to the `district`\n",
    " - set the column argument = to a column in the dataset you want to color by (here we choose `district`)"
   ]
  },
  {
   "cell_type": "code",
   "execution_count": null,
   "metadata": {},
   "outputs": [],
   "source": [
    "school_districts.plot(column = 'district');"
   ]
  },
  {
   "cell_type": "markdown",
   "metadata": {},
   "source": [
    "### You can make the colors a bit calmer \n",
    " - to define distinct regions (which are categorical) you want a [qualitative colormap](https://matplotlib.org/3.1.0/tutorials/colors/colormaps.html)"
   ]
  },
  {
   "cell_type": "code",
   "execution_count": null,
   "metadata": {},
   "outputs": [],
   "source": [
    "school_districts.plot(column = 'district', cmap = 'Set3');"
   ]
  },
  {
   "cell_type": "markdown",
   "metadata": {},
   "source": [
    "### To set `figsize()` you can add that argument to your call to `.plot()`"
   ]
  },
  {
   "cell_type": "code",
   "execution_count": null,
   "metadata": {},
   "outputs": [],
   "source": [
    "school_districts.plot(column = 'district', cmap = 'Set3', figsize = (8,8));"
   ]
  },
  {
   "cell_type": "markdown",
   "metadata": {},
   "source": [
    "### To perform further tweaking with more control we can switch to the syntax that uses `fig` and `ax`"
   ]
  },
  {
   "cell_type": "code",
   "execution_count": null,
   "metadata": {},
   "outputs": [],
   "source": [
    "fig, ax = plt.subplots(figsize = (10,10))\n",
    "school_districts.plot(ax = ax, column = 'district', cmap = 'Set3');"
   ]
  },
  {
   "cell_type": "markdown",
   "metadata": {},
   "source": [
    "### We can add a legend by passing in `legend = True` to `.plot()` "
   ]
  },
  {
   "cell_type": "code",
   "execution_count": null,
   "metadata": {},
   "outputs": [],
   "source": [
    "fig, ax = plt.subplots(figsize = (10,10))\n",
    "school_districts.plot(ax = ax, column = 'district', \n",
    "                      cmap = 'Set3', legend = True);"
   ]
  },
  {
   "cell_type": "markdown",
   "metadata": {},
   "source": [
    "#### Setting [`legend_kwds`](https://matplotlib.org/3.1.1/api/legend_api.html) allows you to style the legend and calling `plt.title()` adds a title."
   ]
  },
  {
   "cell_type": "code",
   "execution_count": null,
   "metadata": {},
   "outputs": [],
   "source": [
    "leg_kwds = {'title': 'School District', 'loc': 'best', \n",
    "            'bbox_to_anchor': (1, 1), 'ncol': 1}\n",
    "fig, ax = plt.subplots(figsize = (10,10))\n",
    "school_districts.plot(ax = ax, column = 'district', cmap = 'Set3', legend = True, \n",
    "                      legend_kwds = leg_kwds)\n",
    "plt.title('Nashville School Districts')\n",
    "plt.savefig('school_districts.png');"
   ]
  },
  {
   "cell_type": "markdown",
   "metadata": {},
   "source": [
    "### Another option if our regions are large enough is adding [annotate](https://matplotlib.org/3.1.1/api/_as_gen/matplotlib.pyplot.annotate.html) to the plot to label them\n",
    "#### We'll iterate through `school_districts` and use the `centroid` property of a `geometry` to put the label in the middle of each polygon"
   ]
  },
  {
   "cell_type": "code",
   "execution_count": null,
   "metadata": {},
   "outputs": [],
   "source": [
    "fig, ax = plt.subplots(figsize = (10,10))\n",
    "school_districts.plot(ax = ax, column = 'district', cmap = 'Set3')\n",
    "\n",
    "for index, row in school_districts.iterrows():\n",
    "    plt.annotate(text=row['district'], \n",
    "                 xy=(row['geometry'].centroid.x, row['geometry'].centroid.y),\n",
    "                 horizontalalignment='center', fontweight = 'bold')\n",
    "    \n",
    "plt.title('Nashville School Districts');"
   ]
  },
  {
   "cell_type": "markdown",
   "metadata": {},
   "source": [
    "### Other visualization libraries to check out:\n",
    " - [seaborn](https://seaborn.pydata.org/)\n",
    "     - [DataCamp tutorial](https://www.datacamp.com/community/tutorials/seaborn-python-tutorial)\n",
    " - [altair](https://altair-viz.github.io/)\n",
    "     - [Jake Vanderplas tutorial](https://github.com/altair-viz/altair-tutorial)"
   ]
  },
  {
   "cell_type": "markdown",
   "metadata": {},
   "source": [
    "### Slide deck on [the grammar of graphics](https://www.slideshare.net/DaryaVanichkina1/grammar-of-graphics-darya-vanichkina)"
   ]
  }
 ],
 "metadata": {
  "kernelspec": {
   "display_name": "Python 3",
   "language": "python",
   "name": "python3"
  },
  "language_info": {
   "codemirror_mode": {
    "name": "ipython",
    "version": 3
   },
   "file_extension": ".py",
   "mimetype": "text/x-python",
   "name": "python",
   "nbconvert_exporter": "python",
   "pygments_lexer": "ipython3",
   "version": "3.8.5"
  }
 },
 "nbformat": 4,
 "nbformat_minor": 2
}
